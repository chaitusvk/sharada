{
 "cells": [
  {
   "cell_type": "code",
   "execution_count": 1,
   "metadata": {},
   "outputs": [],
   "source": [
    "from PIL import Image, ImageFont, ImageDraw"
   ]
  },
  {
   "cell_type": "code",
   "execution_count": 2,
   "metadata": {},
   "outputs": [],
   "source": [
    "from random import randint"
   ]
  },
  {
   "cell_type": "code",
   "execution_count": 3,
   "metadata": {},
   "outputs": [],
   "source": [
    "IMG_W = 128\n",
    "IMG_H = 64"
   ]
  },
  {
   "cell_type": "code",
   "execution_count": 4,
   "metadata": {},
   "outputs": [],
   "source": [
    "#open words_file\n",
    "file = open('sortdict.txt','r')\n",
    "label_file = open('labels_big.txt','w')"
   ]
  },
  {
   "cell_type": "code",
   "execution_count": 5,
   "metadata": {},
   "outputs": [],
   "source": [
    "def name_text(text):\n",
    "    return \"\".join([\"./tel_ocr_data_big/\",text,\".png\"])"
   ]
  },
  {
   "cell_type": "code",
   "execution_count": 6,
   "metadata": {},
   "outputs": [],
   "source": [
    "def text_to_img(text,index):\n",
    "    img = Image.new(\"RGB\",(IMG_W,IMG_H))\n",
    "    draw = ImageDraw.Draw(img)\n",
    "    font_eng = ImageFont.truetype(\"Pothana2000.ttf\",20)\n",
    "    w,h =font_eng.getsize(text)\n",
    "    rand_w = IMG_W - w\n",
    "    rand_h = IMG_H - h\n",
    "    if((rand_w >0)&(rand_h>0) ):\n",
    "        w_offset = randint(0,int(rand_w/2))\n",
    "        h_offset = randint(0,int(rand_h/2))\n",
    "        #print(w_offset,h_offset)\n",
    "        draw.text((w_offset, h_offset), text, font=font_eng)\n",
    "        file_name = name_text(index)\n",
    "        img.save(file_name)\n",
    "        return 0\n",
    "            \n",
    "    else:\n",
    "        return -1\n",
    "    \n",
    "    "
   ]
  },
  {
   "cell_type": "code",
   "execution_count": 7,
   "metadata": {},
   "outputs": [],
   "source": [
    "#lines = file.readlines()"
   ]
  },
  {
   "cell_type": "code",
   "execution_count": 8,
   "metadata": {},
   "outputs": [],
   "source": [
    "#rand_range = len(lines)"
   ]
  },
  {
   "cell_type": "code",
   "execution_count": 9,
   "metadata": {},
   "outputs": [],
   "source": [
    "#rand_range"
   ]
  },
  {
   "cell_type": "code",
   "execution_count": 10,
   "metadata": {},
   "outputs": [],
   "source": [
    "all_chars = (u' ఁంఃఅఆఇఈఉఊఋఌఎఏఐఒఓఔ'\n",
    "             u'కఖగఘఙచఛజఝఞటఠడఢణతథదధనపఫబభమ'\n",
    "             u'యరఱలళవశషసహ'\n",
    "             u'ఽాిీుూృౄెేైొోౌ్'\n",
    "             u'ౘౙౠౡౢౣ'\n",
    "             u'౦౧౨౩౪౫౬౭౮౯')\n"
   ]
  },
  {
   "cell_type": "code",
   "execution_count": 11,
   "metadata": {},
   "outputs": [],
   "source": [
    "def check_string(text):\n",
    "    \n",
    "    for c in text:\n",
    "        if(c in all_chars):\n",
    "            pass\n",
    "        else:\n",
    "            return -1\n",
    "    return 0\n",
    "    "
   ]
  },
  {
   "cell_type": "code",
   "execution_count": 12,
   "metadata": {},
   "outputs": [],
   "source": [
    "index =0"
   ]
  },
  {
   "cell_type": "code",
   "execution_count": 13,
   "metadata": {},
   "outputs": [],
   "source": [
    "for lines in file:\n",
    "    line = lines.strip('\\n')\n",
    "    result =check_string(line)\n",
    "    if(result == 0):\n",
    "        result = text_to_img(line,str(index))\n",
    "        if(result == 0):\n",
    "            label_file.write(str(index))\n",
    "            label_file.write(\" \")\n",
    "            label_file.write(line)\n",
    "            label_file.write(\"\\n\")\n",
    "            index = index +1"
   ]
  },
  {
   "cell_type": "code",
   "execution_count": 14,
   "metadata": {},
   "outputs": [],
   "source": [
    "label_file.close()"
   ]
  },
  {
   "cell_type": "code",
   "execution_count": 15,
   "metadata": {},
   "outputs": [],
   "source": [
    "file.close()"
   ]
  },
  {
   "cell_type": "code",
   "execution_count": null,
   "metadata": {},
   "outputs": [],
   "source": [
    "  "
   ]
  }
 ],
 "metadata": {
  "kernelspec": {
   "display_name": "Python 3",
   "language": "python",
   "name": "python3"
  },
  "language_info": {
   "codemirror_mode": {
    "name": "ipython",
    "version": 3
   },
   "file_extension": ".py",
   "mimetype": "text/x-python",
   "name": "python",
   "nbconvert_exporter": "python",
   "pygments_lexer": "ipython3",
   "version": "3.8.3"
  }
 },
 "nbformat": 4,
 "nbformat_minor": 4
}
