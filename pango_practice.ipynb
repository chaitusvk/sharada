{
 "cells": [
  {
   "cell_type": "code",
   "execution_count": 45,
   "metadata": {},
   "outputs": [],
   "source": [
    "import pangocairocffi\n",
    "from pangocffi import Alignment\n",
    "import cairocffi\n",
    "import pangocffi\n",
    "import numpy as np"
   ]
  },
  {
   "cell_type": "code",
   "execution_count": 72,
   "metadata": {},
   "outputs": [],
   "source": [
    "surface = cairocffi.ImageSurface(format=cairocffi.FORMAT_RGB24,width=128,height=64)"
   ]
  },
  {
   "cell_type": "code",
   "execution_count": 73,
   "metadata": {},
   "outputs": [],
   "source": [
    "context = cairocffi.Context(surface)"
   ]
  },
  {
   "cell_type": "code",
   "execution_count": 74,
   "metadata": {},
   "outputs": [],
   "source": [
    "with context:\n",
    "    context.set_source_rgb(1, 1, 1)  # White\n",
    "    context.paint()"
   ]
  },
  {
   "cell_type": "code",
   "execution_count": 75,
   "metadata": {},
   "outputs": [],
   "source": [
    "text = u'గిరీశం'"
   ]
  },
  {
   "cell_type": "code",
   "execution_count": 76,
   "metadata": {},
   "outputs": [],
   "source": [
    "box = context.text_extents(text)"
   ]
  },
  {
   "cell_type": "code",
   "execution_count": 77,
   "metadata": {},
   "outputs": [
    {
     "name": "stdout",
     "output_type": "stream",
     "text": [
      "(0.0, -7.000000000000001, 36.00000000000001, 9.0, 36.00000000000001, 0.0)\n"
     ]
    }
   ],
   "source": [
    "print(box)"
   ]
  },
  {
   "cell_type": "code",
   "execution_count": 78,
   "metadata": {},
   "outputs": [],
   "source": [
    "w=128\n",
    "h=64\n",
    "context.set_font_size(25)"
   ]
  },
  {
   "cell_type": "code",
   "execution_count": 79,
   "metadata": {},
   "outputs": [],
   "source": [
    "#context.move_to(10,10)"
   ]
  },
  {
   "cell_type": "code",
   "execution_count": 80,
   "metadata": {},
   "outputs": [],
   "source": [
    "border_w_h = (4, 4)\n",
    "if box[2] > (w - 2 * border_w_h[1]) or box[3] > (h - 2 * border_w_h[0]):\n",
    "    raise IOError('Could not fit string into image. Max char count is too large for given image width.')\n",
    "\n",
    "# teach the RNN translational invariance by\n",
    "# fitting text box randomly on canvas, with some room to rotate\n",
    "max_shift_x = w - box[2] - border_w_h[0] \n",
    "max_shift_y = h - box[3] - border_w_h[1]\n",
    "top_left_x = np.random.randint(0, int(max_shift_x))\n",
    "top_left_y = np.random.randint(0, int(max_shift_y))"
   ]
  },
  {
   "cell_type": "code",
   "execution_count": 81,
   "metadata": {},
   "outputs": [],
   "source": [
    "context.move_to(top_left_x - int(box[0]), top_left_y - int(box[1]))\n",
    "context.set_source_rgb(0, 0, 0)"
   ]
  },
  {
   "cell_type": "code",
   "execution_count": 82,
   "metadata": {},
   "outputs": [],
   "source": [
    "layout = pangocairocffi.create_layout(context)"
   ]
  },
  {
   "cell_type": "code",
   "execution_count": 83,
   "metadata": {},
   "outputs": [],
   "source": [
    "layout.set_text('గిరీశం')\n",
    "pangocairocffi.show_layout(context,layout)"
   ]
  },
  {
   "cell_type": "code",
   "execution_count": 84,
   "metadata": {},
   "outputs": [],
   "source": [
    "surface.write_to_png('check8.png')"
   ]
  },
  {
   "cell_type": "code",
   "execution_count": 85,
   "metadata": {},
   "outputs": [],
   "source": [
    "buf = surface.get_data()\n",
    "a = np.frombuffer(buf, np.uint8)\n",
    "a.shape = (h, w, 4)\n",
    "a = a[:, :, 0]  # grab single channel\n",
    "a = a.astype(np.float32) / 255"
   ]
  },
  {
   "cell_type": "code",
   "execution_count": 86,
   "metadata": {},
   "outputs": [
    {
     "data": {
      "text/plain": [
       "(64, 128)"
      ]
     },
     "execution_count": 86,
     "metadata": {},
     "output_type": "execute_result"
    }
   ],
   "source": [
    "a.shape"
   ]
  },
  {
   "cell_type": "code",
   "execution_count": null,
   "metadata": {},
   "outputs": [],
   "source": []
  }
 ],
 "metadata": {
  "kernelspec": {
   "display_name": "Python 3",
   "language": "python",
   "name": "python3"
  },
  "language_info": {
   "codemirror_mode": {
    "name": "ipython",
    "version": 3
   },
   "file_extension": ".py",
   "mimetype": "text/x-python",
   "name": "python",
   "nbconvert_exporter": "python",
   "pygments_lexer": "ipython3",
   "version": "3.5.2"
  }
 },
 "nbformat": 4,
 "nbformat_minor": 2
}
