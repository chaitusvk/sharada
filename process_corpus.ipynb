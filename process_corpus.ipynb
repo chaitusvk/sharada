{
 "cells": [
  {
   "cell_type": "code",
   "execution_count": 1,
   "metadata": {},
   "outputs": [],
   "source": [
    "all_chars = (u' ఁంఃఅఆఇఈఉఊఋఌఎఏఐఒఓఔ'\n",
    "             u'కఖగఘఙచఛజఝఞటఠడఢణతథదధనపఫబభమ'\n",
    "             u'యరఱలళవశషసహ'\n",
    "             u'ఽాిీుూృౄెేైొోౌ్'\n",
    "             u'ౘౙౠౡౢౣ'\n",
    "             u'!1234567890?')"
   ]
  },
  {
   "cell_type": "code",
   "execution_count": 2,
   "metadata": {},
   "outputs": [],
   "source": [
    "# def clean_text(text):\n",
    "#     clean_string = ''.join((filter(lambda i: i in all_chars, text)))\n",
    "#     return clean_string"
   ]
  },
  {
   "cell_type": "code",
   "execution_count": 3,
   "metadata": {},
   "outputs": [],
   "source": [
    "def format_text(text):\n",
    "    len_string = len(text)\n",
    "    if(len_string >50):\n",
    "        string_100 = text[:49]\n",
    "        for i in reversed(range(len(string_100))):\n",
    "             if(string_100[i]==\" \"):\n",
    "                     break;\n",
    "        \n",
    "        t_clean_string = ''.join((filter(lambda i: i in all_chars,string_100[:i])))\n",
    "    else:\n",
    "        t_clean_string = ''.join((filter(lambda i: i in all_chars,text)))\n",
    "        \n",
    "    return t_clean_string\n",
    "       \n"
   ]
  },
  {
   "cell_type": "code",
   "execution_count": 4,
   "metadata": {},
   "outputs": [],
   "source": [
    "test_tel_string = \"స్వగ్రామం చిట్టివలసలో బాల సరస్వతి నాట్యమండలి, బాల సావిత్రి నాట్య మండలి అనే రెండు నాటక పరిషత్‌లు ఉండేవని, నా ఆసక్తి గమనించిన వారు ఎన్నో ప్రదర్శనలకు తీసుకుపోయారని వివరించారాయన.\" "
   ]
  },
  {
   "cell_type": "code",
   "execution_count": 5,
   "metadata": {},
   "outputs": [],
   "source": [
    "#clean_text = format_text(test_tel_string)"
   ]
  },
  {
   "cell_type": "code",
   "execution_count": 6,
   "metadata": {},
   "outputs": [],
   "source": [
    "#print(clean_text)"
   ]
  },
  {
   "cell_type": "code",
   "execution_count": 7,
   "metadata": {},
   "outputs": [],
   "source": [
    "tel_data_file = open('tel_ocr_sen.txt','r')"
   ]
  },
  {
   "cell_type": "code",
   "execution_count": 8,
   "metadata": {},
   "outputs": [],
   "source": [
    "tel_clean_file = open('tel_clean_file.txt','w')"
   ]
  },
  {
   "cell_type": "code",
   "execution_count": 9,
   "metadata": {},
   "outputs": [],
   "source": [
    "for line in tel_data_file:\n",
    "    tel_string = line.split(\"\\t\")[1].strip(\"\\n\")\n",
    "    tel_clean_string = format_text(tel_string)\n",
    "    tel_clean_file.write(tel_clean_string)\n",
    "    tel_clean_file.write(\"\\n\")\n",
    "    \n",
    "    "
   ]
  },
  {
   "cell_type": "code",
   "execution_count": 10,
   "metadata": {},
   "outputs": [],
   "source": [
    "tel_data_file.close()"
   ]
  },
  {
   "cell_type": "code",
   "execution_count": 11,
   "metadata": {},
   "outputs": [],
   "source": [
    "tel_clean_file.close()"
   ]
  },
  {
   "cell_type": "code",
   "execution_count": null,
   "metadata": {},
   "outputs": [],
   "source": [
    "def encode(text):\n",
    "        \"\"\"Encode text to vector\"\"\"\n",
    "\n",
    "        if isinstance(text, bytes):\n",
    "            text = text.decode()\n",
    "\n",
    "        \n",
    "        text = \" \".join(text.split())\n",
    "\n",
    "        encoded = []\n",
    "\n",
    "        for item in text:\n",
    "            index = all_chars.find(item)\n",
    "            encoded.append(index)\n",
    "\n",
    "        return encoded"
   ]
  },
  {
   "cell_type": "code",
   "execution_count": null,
   "metadata": {},
   "outputs": [],
   "source": [
    "enc = encode(\"అందుకని నా రూంలో పెట్టి భద్రంగా బీగమేసినాను.\")"
   ]
  },
  {
   "cell_type": "code",
   "execution_count": null,
   "metadata": {},
   "outputs": [],
   "source": [
    "print(enc)"
   ]
  },
  {
   "cell_type": "code",
   "execution_count": null,
   "metadata": {},
   "outputs": [],
   "source": []
  }
 ],
 "metadata": {
  "kernelspec": {
   "display_name": "Python 3",
   "language": "python",
   "name": "python3"
  },
  "language_info": {
   "codemirror_mode": {
    "name": "ipython",
    "version": 3
   },
   "file_extension": ".py",
   "mimetype": "text/x-python",
   "name": "python",
   "nbconvert_exporter": "python",
   "pygments_lexer": "ipython3",
   "version": "3.8.5"
  }
 },
 "nbformat": 4,
 "nbformat_minor": 4
}
